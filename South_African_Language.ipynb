{
 "cells": [
  {
   "cell_type": "markdown",
   "id": "a36e2573",
   "metadata": {},
   "source": [
    "# Explore Data Science Academy Classification Hackathon Student Solution\n",
    "\n",
    "© Explore Data Science Academy\n",
    "\n",
    "\n",
    "# Overview\n",
    "South Africa is a multicultural society that is characterised by its rich linguistic diversity. Language is an indispensable tool that can be used to deepen democracy and also contribute to the social, cultural, intellectual, economic and political life of the South African society.\n",
    "\n",
    "The country is multilingual with 11 official languages, each of which is guaranteed equal status. Most South Africans are multilingual and able to speak at least two or more of the official languages.\n",
    "From South African Government\n",
    "\n",
    "<img src=\"C:\\Users\\F5481295\\OneDrive - FRG\\Downloads\\06 - Advanced Classification\\LANGUAGE IDENTIFICATION CLASSIFICATION HACKATHON\" width=400 height=400 />\n",
    "\n",
    "With such a multilingual population, it is only obvious that our systems and devices also communicate in multi-languages.\n",
    "\n",
    "In this challenge, we will take text which is in any of South Africa's 11 Official languages and identify which language the text is in. This is an example of NLP's Language Identification, the task of determining the natural language that a piece of text is written in."
   ]
  },
  {
   "cell_type": "markdown",
   "id": "ec2b95fd",
   "metadata": {},
   "source": [
    "<a id=\"cont\"></a>\n",
    "\n",
    "## Table of Contents\n",
    "\n",
    "<a href=#one>1. Importing Packages</a>\n",
    "\n",
    "<a href=#two>2. Loading Data</a>\n",
    "\n",
    "<a href=#three>3. Exploratory Data Analysis (EDA)</a>\n",
    "\n",
    "<a href=#four>4. Data Processing and Engineering</a>\n",
    "\n",
    "<a href=#five>5. Model Development</a>\n",
    "\n",
    "<a href=#six>6. Model Training and Testing</a>\n",
    "\n",
    "<a href=#seven>7. Model Performance</a>"
   ]
  },
  {
   "cell_type": "markdown",
   "id": "b2e47696",
   "metadata": {},
   "source": [
    " <a id=\"one\"></a>\n",
    "## 1. Importing Packages\n",
    "<a href=#cont>Back to Table of Contents</a>"
   ]
  },
  {
   "cell_type": "code",
   "execution_count": 1,
   "id": "dc6f6c33",
   "metadata": {},
   "outputs": [],
   "source": [
    "# Libraries for loading data, data manipulation and data visulisation\n",
    "import numpy as np\n",
    "import pandas as pd\n",
    "from matplotlib import pyplot as plt\n",
    "%matplotlib inline\n",
    "import seaborn as sns\n",
    "\n",
    "import warnings\n",
    "warnings.filterwarnings(\"ignore\")\n",
    "\n",
    "import re # Regular expression python module\n",
    "import string\n",
    "\n",
    "# nltk for preprocessing of text data\n",
    "import nltk\n",
    "from sklearn.feature_extraction.text import TfidfVectorizer\n",
    "\n",
    "# Labraries for model builduing\n",
    "from sklearn.model_selection import train_test_split\n",
    "from sklearn.linear_model import LogisticRegression\n",
    "from sklearn.ensemble import RandomForestClassifier\n",
    "from sklearn.svm import SVC\n",
    "from sklearn.naive_bayes import MultinomialNB\n",
    "from sklearn.metrics import accuracy_score, classification_report, f1_score,"
   ]
  },
  {
   "cell_type": "markdown",
   "id": "a0998487",
   "metadata": {},
   "source": [
    "<a id=\"two\"></a>\n",
    "## 2. Loading the Data\n",
    "<a class=\"anchor\" id=\"1.1\"></a>\n",
    "<a href=#cont>Back to Table of Contents</a>"
   ]
  },
  {
   "cell_type": "code",
   "execution_count": 2,
   "id": "fec5e384",
   "metadata": {},
   "outputs": [],
   "source": [
    "train = pd.read_csv('train_set.csv')\n",
    "test = pd.read_csv('test_set.csv')"
   ]
  },
  {
   "cell_type": "markdown",
   "id": "656a5278",
   "metadata": {},
   "source": [
    "<a id=\"three\"></a>\n",
    "## 3. Exploratory Data Analysis (EDA)\n",
    "<a class=\"anchor\" id=\"1.1\"></a>\n",
    "<a href=#cont>Back to Table of Contents</a>"
   ]
  },
  {
   "cell_type": "code",
   "execution_count": 3,
   "id": "75fc681e",
   "metadata": {},
   "outputs": [
    {
     "data": {
      "text/html": [
       "<div>\n",
       "<style scoped>\n",
       "    .dataframe tbody tr th:only-of-type {\n",
       "        vertical-align: middle;\n",
       "    }\n",
       "\n",
       "    .dataframe tbody tr th {\n",
       "        vertical-align: top;\n",
       "    }\n",
       "\n",
       "    .dataframe thead th {\n",
       "        text-align: right;\n",
       "    }\n",
       "</style>\n",
       "<table border=\"1\" class=\"dataframe\">\n",
       "  <thead>\n",
       "    <tr style=\"text-align: right;\">\n",
       "      <th></th>\n",
       "      <th>lang_id</th>\n",
       "      <th>text</th>\n",
       "    </tr>\n",
       "  </thead>\n",
       "  <tbody>\n",
       "    <tr>\n",
       "      <th>0</th>\n",
       "      <td>xho</td>\n",
       "      <td>umgaqo-siseko wenza amalungiselelo kumaziko ax...</td>\n",
       "    </tr>\n",
       "    <tr>\n",
       "      <th>1</th>\n",
       "      <td>xho</td>\n",
       "      <td>i-dha iya kuba nobulumko bokubeka umsebenzi na...</td>\n",
       "    </tr>\n",
       "    <tr>\n",
       "      <th>2</th>\n",
       "      <td>eng</td>\n",
       "      <td>the province of kwazulu-natal department of tr...</td>\n",
       "    </tr>\n",
       "    <tr>\n",
       "      <th>3</th>\n",
       "      <td>nso</td>\n",
       "      <td>o netefatša gore o ba file dilo ka moka tše le...</td>\n",
       "    </tr>\n",
       "    <tr>\n",
       "      <th>4</th>\n",
       "      <td>ven</td>\n",
       "      <td>khomishini ya ndinganyiso ya mbeu yo ewa maana...</td>\n",
       "    </tr>\n",
       "    <tr>\n",
       "      <th>5</th>\n",
       "      <td>nso</td>\n",
       "      <td>dinyakišišo tše tša go dirwa gabedi ka ngwaga ...</td>\n",
       "    </tr>\n",
       "    <tr>\n",
       "      <th>6</th>\n",
       "      <td>tsn</td>\n",
       "      <td>kgetse nngwe le nngwe e e sa faposiwang mo tsh...</td>\n",
       "    </tr>\n",
       "    <tr>\n",
       "      <th>7</th>\n",
       "      <td>ven</td>\n",
       "      <td>mbadelo dze dza laelwa dzi do kwama mahatulele...</td>\n",
       "    </tr>\n",
       "    <tr>\n",
       "      <th>8</th>\n",
       "      <td>nso</td>\n",
       "      <td>maloko a dikhuduthamaga a ikarabela mongwe le ...</td>\n",
       "    </tr>\n",
       "    <tr>\n",
       "      <th>9</th>\n",
       "      <td>tsn</td>\n",
       "      <td>fa le dirisiwa lebone le tshwanetse go bontsha...</td>\n",
       "    </tr>\n",
       "  </tbody>\n",
       "</table>\n",
       "</div>"
      ],
      "text/plain": [
       "  lang_id                                               text\n",
       "0     xho  umgaqo-siseko wenza amalungiselelo kumaziko ax...\n",
       "1     xho  i-dha iya kuba nobulumko bokubeka umsebenzi na...\n",
       "2     eng  the province of kwazulu-natal department of tr...\n",
       "3     nso  o netefatša gore o ba file dilo ka moka tše le...\n",
       "4     ven  khomishini ya ndinganyiso ya mbeu yo ewa maana...\n",
       "5     nso  dinyakišišo tše tša go dirwa gabedi ka ngwaga ...\n",
       "6     tsn  kgetse nngwe le nngwe e e sa faposiwang mo tsh...\n",
       "7     ven  mbadelo dze dza laelwa dzi do kwama mahatulele...\n",
       "8     nso  maloko a dikhuduthamaga a ikarabela mongwe le ...\n",
       "9     tsn  fa le dirisiwa lebone le tshwanetse go bontsha..."
      ]
     },
     "execution_count": 3,
     "metadata": {},
     "output_type": "execute_result"
    }
   ],
   "source": [
    "train.head(10) # To view the first 10 rows of the train set data"
   ]
  },
  {
   "cell_type": "markdown",
   "id": "d1723be1",
   "metadata": {},
   "source": [
    "The train dataset has 2 columns,which are `lang_id` and `text`. The `lang_id` column is the target variable and the `text` column contains the text that we will clean and preprocess."
   ]
  },
  {
   "cell_type": "code",
   "execution_count": 4,
   "id": "04d47102",
   "metadata": {},
   "outputs": [
    {
     "data": {
      "text/html": [
       "<div>\n",
       "<style scoped>\n",
       "    .dataframe tbody tr th:only-of-type {\n",
       "        vertical-align: middle;\n",
       "    }\n",
       "\n",
       "    .dataframe tbody tr th {\n",
       "        vertical-align: top;\n",
       "    }\n",
       "\n",
       "    .dataframe thead th {\n",
       "        text-align: right;\n",
       "    }\n",
       "</style>\n",
       "<table border=\"1\" class=\"dataframe\">\n",
       "  <thead>\n",
       "    <tr style=\"text-align: right;\">\n",
       "      <th></th>\n",
       "      <th>index</th>\n",
       "      <th>text</th>\n",
       "    </tr>\n",
       "  </thead>\n",
       "  <tbody>\n",
       "    <tr>\n",
       "      <th>5672</th>\n",
       "      <td>5673</td>\n",
       "      <td>Die raad kan van tyd tot tyd en in ooreenstemm...</td>\n",
       "    </tr>\n",
       "    <tr>\n",
       "      <th>5673</th>\n",
       "      <td>5674</td>\n",
       "      <td>halutshedzo ya ' tshiimo tsha u vha na vhudzim...</td>\n",
       "    </tr>\n",
       "    <tr>\n",
       "      <th>5674</th>\n",
       "      <td>5675</td>\n",
       "      <td>botlalo tšeo di hlokegago o mongwe le o mongwe.</td>\n",
       "    </tr>\n",
       "    <tr>\n",
       "      <th>5675</th>\n",
       "      <td>5676</td>\n",
       "      <td>Muanewa-muhali. Mafhungo o he a lungano a kwam...</td>\n",
       "    </tr>\n",
       "    <tr>\n",
       "      <th>5676</th>\n",
       "      <td>5677</td>\n",
       "      <td>Afitafiti go tšwa go leloko go netefatša tlhok...</td>\n",
       "    </tr>\n",
       "    <tr>\n",
       "      <th>5677</th>\n",
       "      <td>5678</td>\n",
       "      <td>You mark your ballot in private.</td>\n",
       "    </tr>\n",
       "    <tr>\n",
       "      <th>5678</th>\n",
       "      <td>5679</td>\n",
       "      <td>Ge o ka kgetha ka bowena go se šomiše Mofani k...</td>\n",
       "    </tr>\n",
       "    <tr>\n",
       "      <th>5679</th>\n",
       "      <td>5680</td>\n",
       "      <td>E Ka kopo etsa kgetho ya hao ka hloko, hobane ...</td>\n",
       "    </tr>\n",
       "    <tr>\n",
       "      <th>5680</th>\n",
       "      <td>5681</td>\n",
       "      <td>TB ke bokudi ba PMB, mme Morero o tla lefella ...</td>\n",
       "    </tr>\n",
       "    <tr>\n",
       "      <th>5681</th>\n",
       "      <td>5682</td>\n",
       "      <td>Vakatjhela iwebhusayidi yethu ku-www.</td>\n",
       "    </tr>\n",
       "  </tbody>\n",
       "</table>\n",
       "</div>"
      ],
      "text/plain": [
       "      index                                               text\n",
       "5672   5673  Die raad kan van tyd tot tyd en in ooreenstemm...\n",
       "5673   5674  halutshedzo ya ' tshiimo tsha u vha na vhudzim...\n",
       "5674   5675    botlalo tšeo di hlokegago o mongwe le o mongwe.\n",
       "5675   5676  Muanewa-muhali. Mafhungo o he a lungano a kwam...\n",
       "5676   5677  Afitafiti go tšwa go leloko go netefatša tlhok...\n",
       "5677   5678                   You mark your ballot in private.\n",
       "5678   5679  Ge o ka kgetha ka bowena go se šomiše Mofani k...\n",
       "5679   5680  E Ka kopo etsa kgetho ya hao ka hloko, hobane ...\n",
       "5680   5681  TB ke bokudi ba PMB, mme Morero o tla lefella ...\n",
       "5681   5682              Vakatjhela iwebhusayidi yethu ku-www."
      ]
     },
     "execution_count": 4,
     "metadata": {},
     "output_type": "execute_result"
    }
   ],
   "source": [
    "test.tail(10) # To view the last 10 rows of the train set data"
   ]
  },
  {
   "cell_type": "markdown",
   "id": "804265f1",
   "metadata": {},
   "source": [
    "The test dataset  doesn't have the `lang_id` column because we want to build a Machine Learning model(s) that can classify a text into one of South Africa's 11 official languages, and we will use this data to test our model(s). "
   ]
  },
  {
   "cell_type": "code",
   "execution_count": 5,
   "id": "5e0db20c",
   "metadata": {},
   "outputs": [
    {
     "data": {
      "text/plain": [
       "(33000, 2)"
      ]
     },
     "execution_count": 5,
     "metadata": {},
     "output_type": "execute_result"
    }
   ],
   "source": [
    "#Understand the number of features and data points in the train dataset\n",
    "train.shape"
   ]
  },
  {
   "cell_type": "markdown",
   "id": "c46f2f5e",
   "metadata": {},
   "source": [
    "So we've got 33,000 samples (text), each with 2 features."
   ]
  },
  {
   "cell_type": "code",
   "execution_count": 6,
   "id": "3061672f",
   "metadata": {},
   "outputs": [
    {
     "data": {
      "text/plain": [
       "(5682, 2)"
      ]
     },
     "execution_count": 6,
     "metadata": {},
     "output_type": "execute_result"
    }
   ],
   "source": [
    "#Understand the number of features and data points in the test dataset\n",
    "test.shape"
   ]
  },
  {
   "cell_type": "markdown",
   "id": "a80144a9",
   "metadata": {},
   "source": [
    "For the test dataset we've got 5,682 samples (text), each with 2 features."
   ]
  },
  {
   "cell_type": "code",
   "execution_count": 7,
   "id": "0824cc60",
   "metadata": {},
   "outputs": [
    {
     "name": "stdout",
     "output_type": "stream",
     "text": [
      "<class 'pandas.core.frame.DataFrame'>\n",
      "RangeIndex: 33000 entries, 0 to 32999\n",
      "Data columns (total 2 columns):\n",
      " #   Column   Non-Null Count  Dtype \n",
      "---  ------   --------------  ----- \n",
      " 0   lang_id  33000 non-null  object\n",
      " 1   text     33000 non-null  object\n",
      "dtypes: object(2)\n",
      "memory usage: 515.8+ KB\n"
     ]
    }
   ],
   "source": [
    "train.info()"
   ]
  },
  {
   "cell_type": "markdown",
   "id": "2e0765b4",
   "metadata": {},
   "source": [
    "As we can see both the `lang_id` and `text` features have object data type. Later we will have to convert the `text` column from object data type into numeric data type since computers can't understand natural language. It also seems like the columns have no null values, but we can check just to be sure,"
   ]
  },
  {
   "cell_type": "code",
   "execution_count": 8,
   "id": "6c0a8ecf",
   "metadata": {},
   "outputs": [
    {
     "data": {
      "text/plain": [
       "lang_id    0\n",
       "text       0\n",
       "dtype: int64"
      ]
     },
     "execution_count": 8,
     "metadata": {},
     "output_type": "execute_result"
    }
   ],
   "source": [
    "train.isnull().sum()"
   ]
  },
  {
   "cell_type": "code",
   "execution_count": 9,
   "id": "f103a10c",
   "metadata": {},
   "outputs": [
    {
     "data": {
      "text/plain": [
       "index    0\n",
       "text     0\n",
       "dtype: int64"
      ]
     },
     "execution_count": 9,
     "metadata": {},
     "output_type": "execute_result"
    }
   ],
   "source": [
    "test.isnull().sum()"
   ]
  },
  {
   "cell_type": "markdown",
   "id": "ba3b41af",
   "metadata": {},
   "source": [
    "Therefore, we can see that both the train set and test set data have no null values. Now let's look at the values that we have on the `lang_id` column and how are they distributed."
   ]
  },
  {
   "cell_type": "code",
   "execution_count": 10,
   "id": "452e616b",
   "metadata": {},
   "outputs": [
    {
     "data": {
      "text/plain": [
       "array(['xho', 'eng', 'nso', 'ven', 'tsn', 'nbl', 'zul', 'ssw', 'tso',\n",
       "       'sot', 'afr'], dtype=object)"
      ]
     },
     "execution_count": 10,
     "metadata": {},
     "output_type": "execute_result"
    }
   ],
   "source": [
    "train['lang_id'].unique()"
   ]
  },
  {
   "cell_type": "code",
   "execution_count": 11,
   "id": "331f347d",
   "metadata": {},
   "outputs": [
    {
     "data": {
      "text/plain": [
       "xho    3000\n",
       "eng    3000\n",
       "nso    3000\n",
       "ven    3000\n",
       "tsn    3000\n",
       "nbl    3000\n",
       "zul    3000\n",
       "ssw    3000\n",
       "tso    3000\n",
       "sot    3000\n",
       "afr    3000\n",
       "Name: lang_id, dtype: int64"
      ]
     },
     "execution_count": 11,
     "metadata": {},
     "output_type": "execute_result"
    }
   ],
   "source": [
    "train[\"lang_id\"].value_counts()"
   ]
  },
  {
   "cell_type": "code",
   "execution_count": 15,
   "id": "36436d07",
   "metadata": {},
   "outputs": [
    {
     "data": {
      "image/png": "[encoded data removed]",
      "text/plain": [
       "<Figure size 504x360 with 1 Axes>"
      ]
     },
     "metadata": {
      "needs_background": "light"
     },
     "output_type": "display_data"
    }
   ],
   "source": [
    "train['lang_id'].value_counts().plot(figsize=(7,5),kind='bar')\n",
    "plt.xlabel('Lang_id')\n",
    "plt.ylabel('Counts')\n",
    "plt.show()"
   ]
  },
  {
   "cell_type": "markdown",
   "id": "2f9750ee",
   "metadata": {},
   "source": [
    "As we can see on the bar graph above, the language IDs have the same number of value counts. This means we are dealing with balanced data, which is the type of data we ideally want to work with to get better working models."
   ]
  },
  {
   "cell_type": "markdown",
   "id": "2372a585",
   "metadata": {},
   "source": [
    "<a id=\"four\"></a>\n",
    "## 4. Data Processing and Engineering\n",
    "<a class=\"anchor\" id=\"1.1\"></a>\n",
    "<a href=#cont>Back to Table of Contents</a>"
   ]
  },
  {
   "cell_type": "markdown",
   "id": "5322aab5",
   "metadata": {},
   "source": [
    "In this section we will conduct some basic steps of text preprocessing in order to transfer text from human language to machine readable format for further processing. We are going to create a function called `cleaning`, which will Pre-process the `text` column. The function will:\n",
    "* make every letter lower case\n",
    "* remove punctuation\n",
    "* remove numbers\n",
    "* remove whitespaces\n",
    "* replace new line with space"
   ]
  },
  {
   "cell_type": "code",
   "execution_count": 16,
   "id": "2a9b8b1d",
   "metadata": {},
   "outputs": [],
   "source": [
    "def cleaning(text):\n",
    "    text = text.lower()\n",
    "    text = ''.join([x for x in text if x not in string.punctuation])\n",
    "    text = re.sub(r'[0-9]+', '', text)\n",
    "    text = re.sub(\"\\n\",\" \",text)\n",
    "    text = ' '.join(text.split())\n",
    "    \n",
    "    return text "
   ]
  },
  {
   "cell_type": "markdown",
   "id": "c2e03bb4",
   "metadata": {},
   "source": [
    "Next, we will apply the cleaning function on both the train and test dataset to clean the `text` column."
   ]
  },
  {
   "cell_type": "code",
   "execution_count": 17,
   "id": "b9f9d1cc",
   "metadata": {},
   "outputs": [],
   "source": [
    "train['clean_text'] = train['text'].apply(cleaning)\n",
    "test['clean_text'] = test['text'].apply(cleaning)"
   ]
  },
  {
   "cell_type": "code",
   "execution_count": 18,
   "id": "17c3c50d",
   "metadata": {},
   "outputs": [
    {
     "data": {
      "text/html": [
       "<div>\n",
       "<style scoped>\n",
       "    .dataframe tbody tr th:only-of-type {\n",
       "        vertical-align: middle;\n",
       "    }\n",
       "\n",
       "    .dataframe tbody tr th {\n",
       "        vertical-align: top;\n",
       "    }\n",
       "\n",
       "    .dataframe thead th {\n",
       "        text-align: right;\n",
       "    }\n",
       "</style>\n",
       "<table border=\"1\" class=\"dataframe\">\n",
       "  <thead>\n",
       "    <tr style=\"text-align: right;\">\n",
       "      <th></th>\n",
       "      <th>lang_id</th>\n",
       "      <th>text</th>\n",
       "      <th>clean_text</th>\n",
       "    </tr>\n",
       "  </thead>\n",
       "  <tbody>\n",
       "    <tr>\n",
       "      <th>0</th>\n",
       "      <td>xho</td>\n",
       "      <td>umgaqo-siseko wenza amalungiselelo kumaziko ax...</td>\n",
       "      <td>umgaqosiseko wenza amalungiselelo kumaziko axh...</td>\n",
       "    </tr>\n",
       "    <tr>\n",
       "      <th>1</th>\n",
       "      <td>xho</td>\n",
       "      <td>i-dha iya kuba nobulumko bokubeka umsebenzi na...</td>\n",
       "      <td>idha iya kuba nobulumko bokubeka umsebenzi nap...</td>\n",
       "    </tr>\n",
       "    <tr>\n",
       "      <th>2</th>\n",
       "      <td>eng</td>\n",
       "      <td>the province of kwazulu-natal department of tr...</td>\n",
       "      <td>the province of kwazulunatal department of tra...</td>\n",
       "    </tr>\n",
       "    <tr>\n",
       "      <th>3</th>\n",
       "      <td>nso</td>\n",
       "      <td>o netefatša gore o ba file dilo ka moka tše le...</td>\n",
       "      <td>o netefatša gore o ba file dilo ka moka tše le...</td>\n",
       "    </tr>\n",
       "    <tr>\n",
       "      <th>4</th>\n",
       "      <td>ven</td>\n",
       "      <td>khomishini ya ndinganyiso ya mbeu yo ewa maana...</td>\n",
       "      <td>khomishini ya ndinganyiso ya mbeu yo ewa maana...</td>\n",
       "    </tr>\n",
       "  </tbody>\n",
       "</table>\n",
       "</div>"
      ],
      "text/plain": [
       "  lang_id                                               text  \\\n",
       "0     xho  umgaqo-siseko wenza amalungiselelo kumaziko ax...   \n",
       "1     xho  i-dha iya kuba nobulumko bokubeka umsebenzi na...   \n",
       "2     eng  the province of kwazulu-natal department of tr...   \n",
       "3     nso  o netefatša gore o ba file dilo ka moka tše le...   \n",
       "4     ven  khomishini ya ndinganyiso ya mbeu yo ewa maana...   \n",
       "\n",
       "                                          clean_text  \n",
       "0  umgaqosiseko wenza amalungiselelo kumaziko axh...  \n",
       "1  idha iya kuba nobulumko bokubeka umsebenzi nap...  \n",
       "2  the province of kwazulunatal department of tra...  \n",
       "3  o netefatša gore o ba file dilo ka moka tše le...  \n",
       "4  khomishini ya ndinganyiso ya mbeu yo ewa maana...  "
      ]
     },
     "execution_count": 18,
     "metadata": {},
     "output_type": "execute_result"
    }
   ],
   "source": [
    "train.head() # looking at the train dataset after cleaning"
   ]
  },
  {
   "cell_type": "code",
   "execution_count": 19,
   "id": "b8ef6acf",
   "metadata": {},
   "outputs": [
    {
     "data": {
      "text/html": [
       "<div>\n",
       "<style scoped>\n",
       "    .dataframe tbody tr th:only-of-type {\n",
       "        vertical-align: middle;\n",
       "    }\n",
       "\n",
       "    .dataframe tbody tr th {\n",
       "        vertical-align: top;\n",
       "    }\n",
       "\n",
       "    .dataframe thead th {\n",
       "        text-align: right;\n",
       "    }\n",
       "</style>\n",
       "<table border=\"1\" class=\"dataframe\">\n",
       "  <thead>\n",
       "    <tr style=\"text-align: right;\">\n",
       "      <th></th>\n",
       "      <th>index</th>\n",
       "      <th>text</th>\n",
       "      <th>clean_text</th>\n",
       "    </tr>\n",
       "  </thead>\n",
       "  <tbody>\n",
       "    <tr>\n",
       "      <th>0</th>\n",
       "      <td>1</td>\n",
       "      <td>Mmasepala, fa maemo a a kgethegileng a letlele...</td>\n",
       "      <td>mmasepala fa maemo a a kgethegileng a letlelel...</td>\n",
       "    </tr>\n",
       "    <tr>\n",
       "      <th>1</th>\n",
       "      <td>2</td>\n",
       "      <td>Uzakwaziswa ngokufaneleko nakungafuneka eminye...</td>\n",
       "      <td>uzakwaziswa ngokufaneleko nakungafuneka eminye...</td>\n",
       "    </tr>\n",
       "    <tr>\n",
       "      <th>2</th>\n",
       "      <td>3</td>\n",
       "      <td>Tshivhumbeo tshi fana na ngano dza vhathu.</td>\n",
       "      <td>tshivhumbeo tshi fana na ngano dza vhathu</td>\n",
       "    </tr>\n",
       "    <tr>\n",
       "      <th>3</th>\n",
       "      <td>4</td>\n",
       "      <td>Kube inja nelikati betingevakala kutsi titsini...</td>\n",
       "      <td>kube inja nelikati betingevakala kutsi titsini...</td>\n",
       "    </tr>\n",
       "    <tr>\n",
       "      <th>4</th>\n",
       "      <td>5</td>\n",
       "      <td>Winste op buitelandse valuta.</td>\n",
       "      <td>winste op buitelandse valuta</td>\n",
       "    </tr>\n",
       "  </tbody>\n",
       "</table>\n",
       "</div>"
      ],
      "text/plain": [
       "   index                                               text  \\\n",
       "0      1  Mmasepala, fa maemo a a kgethegileng a letlele...   \n",
       "1      2  Uzakwaziswa ngokufaneleko nakungafuneka eminye...   \n",
       "2      3         Tshivhumbeo tshi fana na ngano dza vhathu.   \n",
       "3      4  Kube inja nelikati betingevakala kutsi titsini...   \n",
       "4      5                      Winste op buitelandse valuta.   \n",
       "\n",
       "                                          clean_text  \n",
       "0  mmasepala fa maemo a a kgethegileng a letlelel...  \n",
       "1  uzakwaziswa ngokufaneleko nakungafuneka eminye...  \n",
       "2          tshivhumbeo tshi fana na ngano dza vhathu  \n",
       "3  kube inja nelikati betingevakala kutsi titsini...  \n",
       "4                       winste op buitelandse valuta  "
      ]
     },
     "execution_count": 19,
     "metadata": {},
     "output_type": "execute_result"
    }
   ],
   "source": [
    "test.head() # looking at the test datasetafter cleaning"
   ]
  },
  {
   "cell_type": "markdown",
   "id": "e09fe43a",
   "metadata": {},
   "source": [
    "After cleaning the `text` column, we will convert it from object data type to numeric data type using the **Tfidf Vectorizer**, so that we can be able to use it in the modelling section."
   ]
  },
  {
   "cell_type": "code",
   "execution_count": 20,
   "id": "cbe33f67",
   "metadata": {},
   "outputs": [],
   "source": [
    "# Defining the feature and the label\n",
    "X = train['clean_text']\n",
    "y = train['lang_id']"
   ]
  },
  {
   "cell_type": "code",
   "execution_count": 21,
   "id": "4955260e",
   "metadata": {},
   "outputs": [],
   "source": [
    "vect = TfidfVectorizer(ngram_range=(1,2), min_df=2) # Defining the vectorizer\n",
    "X_vect = vect.fit_transform(X) # Vectorizing the train dataset feature\n",
    "test_vect = vect.transform(test['clean_text']) # Vectorizing the test dataset feature"
   ]
  },
  {
   "cell_type": "code",
   "execution_count": 22,
   "id": "f099f1fd",
   "metadata": {},
   "outputs": [
    {
     "name": "stdout",
     "output_type": "stream",
     "text": [
      "The Train set size  (33000, 206620)\n",
      "The Test set size  (5682, 206620)\n"
     ]
    }
   ],
   "source": [
    "print (\"The Train set size \", X_vect.shape)\n",
    "print (\"The Test set size \", test_vect.shape)"
   ]
  },
  {
   "cell_type": "markdown",
   "id": "0640109e",
   "metadata": {},
   "source": [
    "<a id=\"five\"></a>\n",
    "## 5. Model development and Training\n",
    "<a class=\"anchor\" id=\"1.1\"></a>\n",
    "<a href=#cont>Back to Table of Contents</a>"
   ]
  },
  {
   "cell_type": "markdown",
   "id": "0820dd59",
   "metadata": {},
   "source": [
    "Before we can begin with building our models we have to split the train data into **train** and **test** set."
   ]
  },
  {
   "cell_type": "code",
   "execution_count": 23,
   "id": "9212a1ce",
   "metadata": {},
   "outputs": [],
   "source": [
    "X_train, X_test, y_train, y_test = train_test_split(X_vect, y, test_size=0.2, random_state=46)"
   ]
  },
  {
   "cell_type": "markdown",
   "id": "f6a0f6ec",
   "metadata": {},
   "source": [
    "After splitting the train dataset, we can proceed with training our models."
   ]
  },
  {
   "cell_type": "code",
   "execution_count": 26,
   "id": "1b4c83d1",
   "metadata": {},
   "outputs": [],
   "source": [
    "# Creating an instance of each model\n",
    "log_r = LogisticRegression()\n",
    "forest = RandomForestClassifier(n_estimators=100, random_state=42)\n",
    "svc = SVC(kernel='linear')\n",
    "naive_bayes = MultinomialNB()\n",
    "\n",
    "# fitting each model\n",
    "log_r.fit(X_train, y_train)\n",
    "forest.fit(X_train, y_train)\n",
    "svc.fit(X_train, y_train)\n",
    "naive_bayes.fit(X_train, y_train)\n",
    "\n",
    "# making predictions using each model\n",
    "pred_log = log_r.predict(X_test)\n",
    "pred_forest = forest.predict(X_test)\n",
    "svc_pred = svc.predict(X_test)\n",
    "pred_bayes = naive_bayes.predict(X_test)"
   ]
  },
  {
   "cell_type": "markdown",
   "id": "e5253fd0",
   "metadata": {},
   "source": [
    "<a id=\"seven\"></a>\n",
    "## 7. Model Performance\n",
    "<a class=\"anchor\" id=\"1.1\"></a>\n",
    "<a href=#cont>Back to Table of Contents</a>"
   ]
  },
  {
   "cell_type": "markdown",
   "id": "91f1dc09",
   "metadata": {},
   "source": [
    "In this section we are going to evaluate the performance of each model by looking at their classification reports and F1-scores."
   ]
  },
  {
   "cell_type": "code",
   "execution_count": 36,
   "id": "a5202999",
   "metadata": {},
   "outputs": [
    {
     "name": "stdout",
     "output_type": "stream",
     "text": [
      "Logistic Regression Classification Report\n",
      "              precision    recall  f1-score   support\n",
      "\n",
      "         afr       1.00      1.00      1.00       618\n",
      "         eng       1.00      1.00      1.00       608\n",
      "         nbl       0.99      0.99      0.99       607\n",
      "         nso       1.00      1.00      1.00       603\n",
      "         sot       1.00      1.00      1.00       611\n",
      "         ssw       1.00      1.00      1.00       613\n",
      "         tsn       1.00      1.00      1.00       611\n",
      "         tso       1.00      1.00      1.00       588\n",
      "         ven       1.00      1.00      1.00       604\n",
      "         xho       0.99      1.00      1.00       576\n",
      "         zul       0.98      0.98      0.98       561\n",
      "\n",
      "    accuracy                           1.00      6600\n",
      "   macro avg       1.00      1.00      1.00      6600\n",
      "weighted avg       1.00      1.00      1.00      6600\n",
      "\n",
      "            ------------------------------\n",
      "Random Forest Classification Report\n",
      "              precision    recall  f1-score   support\n",
      "\n",
      "         afr       1.00      1.00      1.00       618\n",
      "         eng       0.99      1.00      1.00       608\n",
      "         nbl       0.99      0.96      0.97       607\n",
      "         nso       1.00      1.00      1.00       603\n",
      "         sot       1.00      1.00      1.00       611\n",
      "         ssw       0.99      0.98      0.98       613\n",
      "         tsn       1.00      1.00      1.00       611\n",
      "         tso       1.00      1.00      1.00       588\n",
      "         ven       1.00      1.00      1.00       604\n",
      "         xho       0.97      0.99      0.98       576\n",
      "         zul       0.95      0.97      0.96       561\n",
      "\n",
      "    accuracy                           0.99      6600\n",
      "   macro avg       0.99      0.99      0.99      6600\n",
      "weighted avg       0.99      0.99      0.99      6600\n",
      "\n",
      "            ------------------------------\n",
      "Support Vector Machine Classification Report\n",
      "              precision    recall  f1-score   support\n",
      "\n",
      "         afr       1.00      1.00      1.00       618\n",
      "         eng       1.00      1.00      1.00       608\n",
      "         nbl       0.99      0.99      0.99       607\n",
      "         nso       1.00      1.00      1.00       603\n",
      "         sot       1.00      1.00      1.00       611\n",
      "         ssw       1.00      1.00      1.00       613\n",
      "         tsn       1.00      1.00      1.00       611\n",
      "         tso       1.00      1.00      1.00       588\n",
      "         ven       1.00      1.00      1.00       604\n",
      "         xho       0.99      1.00      1.00       576\n",
      "         zul       0.99      0.99      0.99       561\n",
      "\n",
      "    accuracy                           1.00      6600\n",
      "   macro avg       1.00      1.00      1.00      6600\n",
      "weighted avg       1.00      1.00      1.00      6600\n",
      "\n",
      "            ------------------------------\n",
      "Naive Bayes Classification Report\n",
      "              precision    recall  f1-score   support\n",
      "\n",
      "         afr       1.00      1.00      1.00       618\n",
      "         eng       0.99      1.00      1.00       608\n",
      "         nbl       1.00      0.99      1.00       607\n",
      "         nso       1.00      1.00      1.00       603\n",
      "         sot       1.00      1.00      1.00       611\n",
      "         ssw       1.00      1.00      1.00       613\n",
      "         tsn       1.00      1.00      1.00       611\n",
      "         tso       1.00      1.00      1.00       588\n",
      "         ven       1.00      1.00      1.00       604\n",
      "         xho       1.00      1.00      1.00       576\n",
      "         zul       1.00      1.00      1.00       561\n",
      "\n",
      "    accuracy                           1.00      6600\n",
      "   macro avg       1.00      1.00      1.00      6600\n",
      "weighted avg       1.00      1.00      1.00      6600\n",
      "\n"
     ]
    }
   ],
   "source": [
    "print('Logistic Regression Classification Report')\n",
    "print(classification_report(y_test, pred_log))\n",
    "print('            ------------------------------')\n",
    "print('Random Forest Classification Report')\n",
    "print(classification_report(y_test, pred_forest))\n",
    "print('            ------------------------------')\n",
    "print('Support Vector Machine Classification Report')\n",
    "print(classification_report(y_test, svc_pred))\n",
    "print('            ------------------------------')\n",
    "print('Naive Bayes Classification Report')\n",
    "print(classification_report(y_test, pred_bayes))"
   ]
  },
  {
   "cell_type": "code",
   "execution_count": 27,
   "id": "b79d53a8",
   "metadata": {},
   "outputs": [
    {
     "name": "stdout",
     "output_type": "stream",
     "text": [
      "The F1_score of the Logistic Regression model is: 0.9959074413108815\n",
      "The F1_score of the Random Forest model is: 0.9903075048688084\n",
      "The F1_score of the Support Vector Machine model is: 0.9972708843494191\n",
      "The F1_score of the Naive Bayes model is: 0.998939245648597\n"
     ]
    }
   ],
   "source": [
    "# F1_score for the Logistic Regression model\n",
    "F1_log = f1_score(y_test, pred_log, average = 'weighted')\n",
    "print(\"The F1_score of the Logistic Regression model is: {}\".format(F1_log))\n",
    "\n",
    "# F1_score for Random Forest model\n",
    "F1_forest = f1_score(y_test, pred_forest, average = 'weighted')\n",
    "print(\"The F1_score of the Random Forest model is: {}\".format(F1_forest))\n",
    "\n",
    "# F1_score for the Support Vector Machine model\n",
    "F1_SVM = f1_score(y_test, svc_pred, average = 'weighted')\n",
    "print(\"The F1_score of the Support Vector Machine model is: {}\".format(F1_SVM))\n",
    "\n",
    "# F1_score for the Naive Bayes model\n",
    "F1_Bayes = f1_score(y_test, pred_bayes, average = 'weighted')\n",
    "print(\"The F1_score of the Naive Bayes model is: {}\".format(F1_Bayes))"
   ]
  },
  {
   "cell_type": "markdown",
   "id": "0a923bdb",
   "metadata": {},
   "source": [
    "From the above set of results, we can safely conclude that the best performing model is the Naive Bayes model. Furthermore, the Naive Bayes took a short period of time to train the model, compared to other models like Logistic Regression which took a significant amount of training time."
   ]
  }
 ],
 "metadata": {
  "kernelspec": {
   "display_name": "Python 3 (ipykernel)",
   "language": "python",
   "name": "python3"
  },
  "language_info": {
   "codemirror_mode": {
    "name": "ipython",
    "version": 3
   },
   "file_extension": ".py",
   "mimetype": "text/x-python",
   "name": "python",
   "nbconvert_exporter": "python",
   "pygments_lexer": "ipython3",
   "version": "3.9.7"
  }
 },
 "nbformat": 4,
 "nbformat_minor": 5
}
